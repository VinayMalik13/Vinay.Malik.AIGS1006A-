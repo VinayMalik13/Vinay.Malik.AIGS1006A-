{
  "nbformat": 4,
  "nbformat_minor": 0,
  "metadata": {
    "colab": {
      "provenance": []
    },
    "kernelspec": {
      "name": "python3",
      "display_name": "Python 3"
    },
    "language_info": {
      "name": "python"
    }
  },
  "cells": [
    {
      "cell_type": "markdown",
      "source": [
        "Question 2: Part - a)\n",
        "State the number of training samples. Also, state the number of test samples.\n",
        "\n",
        "\n",
        "No. of Training Samples: 8143  \n",
        "No. of Test Samples: 9752"
      ],
      "metadata": {
        "id": "vF1jjVUmbfDC"
      }
    },
    {
      "cell_type": "markdown",
      "source": [
        "Part B) Run a simulation using TensorFlow and vary the number of hidden units and make a plot."
      ],
      "metadata": {
        "id": "jadRddAlcdlN"
      }
    },
    {
      "cell_type": "code",
      "source": [
        "import tensorflow as tf\n",
        "# for layers\n",
        "from tensorflow.keras.layers import Dense\n",
        "#random functions\n",
        "import pandas as pd\n",
        "import numpy as np\n",
        "import matplotlib.pyplot as plt\n",
        "from sklearn.model_selection import train_test_split"
      ],
      "metadata": {
        "id": "XSJsv4BNch_2"
      },
      "execution_count": 80,
      "outputs": []
    },
    {
      "cell_type": "code",
      "source": [
        "testdata = pd.read_csv('testData.txt', sep=',')\n",
        "traindata = pd.read_csv('trainData.txt', sep=',')\n",
        "\n",
        "testdata.info()"
      ],
      "metadata": {
        "colab": {
          "base_uri": "https://localhost:8080/"
        },
        "id": "lU31X75Pczrp",
        "outputId": "24f6f8b3-9ed4-41c4-caab-3e7e0d6edfc9"
      },
      "execution_count": 81,
      "outputs": [
        {
          "output_type": "stream",
          "name": "stdout",
          "text": [
            "<class 'pandas.core.frame.DataFrame'>\n",
            "Int64Index: 9752 entries, 1 to 9752\n",
            "Data columns (total 7 columns):\n",
            " #   Column         Non-Null Count  Dtype  \n",
            "---  ------         --------------  -----  \n",
            " 0   date           9752 non-null   object \n",
            " 1   Temperature    9752 non-null   float64\n",
            " 2   Humidity       9752 non-null   float64\n",
            " 3   Light          9752 non-null   float64\n",
            " 4   CO2            9752 non-null   float64\n",
            " 5   HumidityRatio  9752 non-null   float64\n",
            " 6   Occupancy      9752 non-null   int64  \n",
            "dtypes: float64(5), int64(1), object(1)\n",
            "memory usage: 609.5+ KB\n"
          ]
        }
      ]
    },
    {
      "cell_type": "code",
      "source": [
        "traindata.info()"
      ],
      "metadata": {
        "colab": {
          "base_uri": "https://localhost:8080/"
        },
        "id": "lQctGbdYc1Wz",
        "outputId": "fe3f5796-2196-4701-e85b-2604d6a3dc71"
      },
      "execution_count": 82,
      "outputs": [
        {
          "output_type": "stream",
          "name": "stdout",
          "text": [
            "<class 'pandas.core.frame.DataFrame'>\n",
            "Int64Index: 8143 entries, 1 to 8143\n",
            "Data columns (total 7 columns):\n",
            " #   Column         Non-Null Count  Dtype  \n",
            "---  ------         --------------  -----  \n",
            " 0   date           8143 non-null   object \n",
            " 1   Temperature    8143 non-null   float64\n",
            " 2   Humidity       8143 non-null   float64\n",
            " 3   Light          8143 non-null   float64\n",
            " 4   CO2            8143 non-null   float64\n",
            " 5   HumidityRatio  8143 non-null   float64\n",
            " 6   Occupancy      8143 non-null   int64  \n",
            "dtypes: float64(5), int64(1), object(1)\n",
            "memory usage: 508.9+ KB\n"
          ]
        }
      ]
    },
    {
      "cell_type": "code",
      "source": [
        "X = traindata.iloc[:5000, 1:6]\n",
        "Y = testdata.iloc[:5000, -1:]\n",
        "\n",
        "train_x, test_x, train_y, test_y = train_test_split(X, Y, test_size=0.2, random_state=0)"
      ],
      "metadata": {
        "id": "jp01OyKddJIu"
      },
      "execution_count": 87,
      "outputs": []
    },
    {
      "cell_type": "code",
      "source": [
        "print(train_x.shape, train_y.shape, test_x.shape, test_y.shape)"
      ],
      "metadata": {
        "colab": {
          "base_uri": "https://localhost:8080/"
        },
        "id": "A_p_Nhv-dLAD",
        "outputId": "0e2d906c-0476-4e42-d9ef-25fa728fa92c"
      },
      "execution_count": 88,
      "outputs": [
        {
          "output_type": "stream",
          "name": "stdout",
          "text": [
            "(4000, 5) (4000, 1) (1000, 5) (1000, 1)\n"
          ]
        }
      ]
    },
    {
      "cell_type": "code",
      "source": [
        "model_1 = tf.keras.Sequential()\n",
        "model_1.add(Dense(16, activation='relu',input_shape=(5, ))) \n",
        "model_1.add(Dense(32, activation='softplus')) \n",
        "model_1.add(Dense(1, activation='sigmoid')) \n",
        "\n",
        "model_1.summary()"
      ],
      "metadata": {
        "colab": {
          "base_uri": "https://localhost:8080/"
        },
        "id": "p82UTK97depD",
        "outputId": "0e608584-5776-4c51-ccd7-f5c70d5e0ae7"
      },
      "execution_count": 89,
      "outputs": [
        {
          "output_type": "stream",
          "name": "stdout",
          "text": [
            "Model: \"sequential_10\"\n",
            "_________________________________________________________________\n",
            " Layer (type)                Output Shape              Param #   \n",
            "=================================================================\n",
            " dense_36 (Dense)            (None, 16)                96        \n",
            "                                                                 \n",
            " dense_37 (Dense)            (None, 32)                544       \n",
            "                                                                 \n",
            " dense_38 (Dense)            (None, 1)                 33        \n",
            "                                                                 \n",
            "=================================================================\n",
            "Total params: 673\n",
            "Trainable params: 673\n",
            "Non-trainable params: 0\n",
            "_________________________________________________________________\n"
          ]
        }
      ]
    },
    {
      "cell_type": "code",
      "source": [
        "lossfunction = tf.keras.losses.BinaryCrossentropy()\n",
        "model_1.compile(optimizer= 'adam', loss= lossfunction, metrics=['accuracy'])"
      ],
      "metadata": {
        "id": "sUlyO-Kbdkq_"
      },
      "execution_count": 90,
      "outputs": []
    },
    {
      "cell_type": "code",
      "source": [
        "fitmodel = model_1.fit(train_x, train_y, epochs=10, validation_split=0.3)"
      ],
      "metadata": {
        "colab": {
          "base_uri": "https://localhost:8080/"
        },
        "id": "3MYIlKkhdobg",
        "outputId": "5c84c52d-83fd-4b2f-ff93-3c5ebc4f14db"
      },
      "execution_count": 91,
      "outputs": [
        {
          "output_type": "stream",
          "name": "stdout",
          "text": [
            "Epoch 1/10\n",
            "88/88 [==============================] - 1s 3ms/step - loss: 25.0041 - accuracy: 0.6557 - val_loss: 0.5473 - val_accuracy: 0.7975\n",
            "Epoch 2/10\n",
            "88/88 [==============================] - 0s 2ms/step - loss: 0.4925 - accuracy: 0.8207 - val_loss: 0.5519 - val_accuracy: 0.7542\n",
            "Epoch 3/10\n",
            "88/88 [==============================] - 0s 2ms/step - loss: 0.4591 - accuracy: 0.8193 - val_loss: 0.4297 - val_accuracy: 0.8300\n",
            "Epoch 4/10\n",
            "88/88 [==============================] - 0s 2ms/step - loss: 0.4621 - accuracy: 0.8225 - val_loss: 0.5034 - val_accuracy: 0.8292\n",
            "Epoch 5/10\n",
            "88/88 [==============================] - 0s 2ms/step - loss: 0.4475 - accuracy: 0.8329 - val_loss: 0.4580 - val_accuracy: 0.8233\n",
            "Epoch 6/10\n",
            "88/88 [==============================] - 0s 2ms/step - loss: 0.4617 - accuracy: 0.8261 - val_loss: 0.3712 - val_accuracy: 0.8483\n",
            "Epoch 7/10\n",
            "88/88 [==============================] - 0s 2ms/step - loss: 0.4382 - accuracy: 0.8329 - val_loss: 0.4247 - val_accuracy: 0.8392\n",
            "Epoch 8/10\n",
            "88/88 [==============================] - 0s 2ms/step - loss: 0.4015 - accuracy: 0.8361 - val_loss: 0.4160 - val_accuracy: 0.8225\n",
            "Epoch 9/10\n",
            "88/88 [==============================] - 0s 3ms/step - loss: 0.4520 - accuracy: 0.8339 - val_loss: 0.4234 - val_accuracy: 0.8258\n",
            "Epoch 10/10\n",
            "88/88 [==============================] - 0s 2ms/step - loss: 0.5042 - accuracy: 0.8232 - val_loss: 0.4144 - val_accuracy: 0.8258\n"
          ]
        }
      ]
    },
    {
      "cell_type": "code",
      "source": [
        "training_loss, training_acc = model_1.evaluate(train_x, train_y)\n",
        "testing_loss, testing_acc = model_1.evaluate(test_x, test_y)"
      ],
      "metadata": {
        "colab": {
          "base_uri": "https://localhost:8080/"
        },
        "id": "-be-i17qdvaC",
        "outputId": "2636604e-a548-468e-e229-72bda7c80d3a"
      },
      "execution_count": 93,
      "outputs": [
        {
          "output_type": "stream",
          "name": "stdout",
          "text": [
            "125/125 [==============================] - 0s 1ms/step - loss: 0.3994 - accuracy: 0.8298\n",
            "32/32 [==============================] - 0s 1ms/step - loss: 0.4388 - accuracy: 0.8200\n"
          ]
        }
      ]
    },
    {
      "cell_type": "code",
      "source": [
        "pred = model_1.predict(test_x)\n",
        "test_pred = np.argmax(pred, axis = 1)\n",
        "confusion_matrix = tf.math.confusion_matrix(labels= test_y, predictions=test_pred)\n",
        "print(confusion_matrix)"
      ],
      "metadata": {
        "colab": {
          "base_uri": "https://localhost:8080/"
        },
        "id": "U62JD0Awdzz8",
        "outputId": "183ea56c-8366-47ab-949c-52135f2ffd65"
      },
      "execution_count": 94,
      "outputs": [
        {
          "output_type": "stream",
          "name": "stdout",
          "text": [
            "32/32 [==============================] - 0s 1ms/step\n",
            "tf.Tensor(\n",
            "[[804   0]\n",
            " [196   0]], shape=(2, 2), dtype=int32)\n"
          ]
        }
      ]
    },
    {
      "cell_type": "code",
      "source": [
        "fitModel = model_1.fit(train_x, train_y, epochs = 10, validation_split = 0.3)\n",
        "\n",
        "#prints key information\n",
        "\n",
        "plt.plot(fitModel.history['accuracy'])\n",
        "plt.plot(fitModel.history['val_accuracy'])\n",
        "plt.legend(['Training accuracy', 'Validation accuracy'])\n",
        "plt.title('Trianing and Validation Accuracies')\n",
        "plt.xlabel('Epoch')\n",
        "plt.ylabel('Accuracy')"
      ],
      "metadata": {
        "colab": {
          "base_uri": "https://localhost:8080/",
          "height": 670
        },
        "id": "Pqw7G04Rd4HP",
        "outputId": "87f1bea4-91de-490b-cce8-a041947b1928"
      },
      "execution_count": 95,
      "outputs": [
        {
          "output_type": "stream",
          "name": "stdout",
          "text": [
            "Epoch 1/10\n",
            "88/88 [==============================] - 0s 3ms/step - loss: 0.4576 - accuracy: 0.8389 - val_loss: 0.3831 - val_accuracy: 0.8417\n",
            "Epoch 2/10\n",
            "88/88 [==============================] - 0s 2ms/step - loss: 0.4076 - accuracy: 0.8496 - val_loss: 0.4847 - val_accuracy: 0.8050\n",
            "Epoch 3/10\n",
            "88/88 [==============================] - 0s 2ms/step - loss: 0.4947 - accuracy: 0.8211 - val_loss: 0.5783 - val_accuracy: 0.8192\n",
            "Epoch 4/10\n",
            "88/88 [==============================] - 0s 2ms/step - loss: 0.5282 - accuracy: 0.8179 - val_loss: 0.4931 - val_accuracy: 0.8442\n",
            "Epoch 5/10\n",
            "88/88 [==============================] - 0s 2ms/step - loss: 0.6776 - accuracy: 0.8025 - val_loss: 1.4832 - val_accuracy: 0.6383\n",
            "Epoch 6/10\n",
            "88/88 [==============================] - 0s 2ms/step - loss: 0.5013 - accuracy: 0.8364 - val_loss: 0.3498 - val_accuracy: 0.8500\n",
            "Epoch 7/10\n",
            "88/88 [==============================] - 0s 2ms/step - loss: 0.5088 - accuracy: 0.8257 - val_loss: 1.4754 - val_accuracy: 0.8017\n",
            "Epoch 8/10\n",
            "88/88 [==============================] - 0s 2ms/step - loss: 0.4622 - accuracy: 0.8386 - val_loss: 0.3380 - val_accuracy: 0.8583\n",
            "Epoch 9/10\n",
            "88/88 [==============================] - 0s 2ms/step - loss: 0.5896 - accuracy: 0.8186 - val_loss: 0.8201 - val_accuracy: 0.8317\n",
            "Epoch 10/10\n",
            "88/88 [==============================] - 0s 3ms/step - loss: 0.5758 - accuracy: 0.8186 - val_loss: 0.5123 - val_accuracy: 0.8758\n"
          ]
        },
        {
          "output_type": "execute_result",
          "data": {
            "text/plain": [
              "Text(0, 0.5, 'Accuracy')"
            ]
          },
          "metadata": {},
          "execution_count": 95
        },
        {
          "output_type": "display_data",
          "data": {
            "text/plain": [
              "<Figure size 432x288 with 1 Axes>"
            ],
            "image/png": "[encoded data removed]"
          },
          "metadata": {
            "needs_background": "light"
          }
        }
      ]
    },
    {
      "cell_type": "code",
      "source": [
        "plt.plot(fitModel.history['loss'])\n",
        "plt.plot(fitModel.history['val_loss'])\n",
        "plt.legend(['Training loss', 'Validation loss'])\n",
        "plt.title('Trianing and Validation Losses')\n",
        "plt.xlabel('Epoch')\n",
        "plt.ylabel('Loss')"
      ],
      "metadata": {
        "colab": {
          "base_uri": "https://localhost:8080/",
          "height": 313
        },
        "id": "tor-KbgBeCPx",
        "outputId": "792359df-a040-4624-ed37-4c0231aeb0d4"
      },
      "execution_count": 96,
      "outputs": [
        {
          "output_type": "execute_result",
          "data": {
            "text/plain": [
              "Text(0, 0.5, 'Loss')"
            ]
          },
          "metadata": {},
          "execution_count": 96
        },
        {
          "output_type": "display_data",
          "data": {
            "text/plain": [
              "<Figure size 432x288 with 1 Axes>"
            ],
            "image/png": "[encoded data removed]"
          },
          "metadata": {
            "needs_background": "light"
          }
        }
      ]
    },
    {
      "cell_type": "code",
      "source": [
        "test_predict = model_1.predict(test_x)\n",
        "test_predict_labels = np.argmax(test_predict, axis = 1)\n",
        "confusion_matrix = tf.math.confusion_matrix(labels = test_y, predictions = test_predict_labels)\n",
        "print('confusion Matrix\\n', confusion_matrix)"
      ],
      "metadata": {
        "colab": {
          "base_uri": "https://localhost:8080/"
        },
        "id": "12F5IAZQfAj_",
        "outputId": "20b017da-4c4b-45be-9be0-bf2cb56b6f74"
      },
      "execution_count": 98,
      "outputs": [
        {
          "output_type": "stream",
          "name": "stdout",
          "text": [
            "32/32 [==============================] - 0s 962us/step\n",
            "confusion Matrix\n",
            " tf.Tensor(\n",
            "[[804   0]\n",
            " [196   0]], shape=(2, 2), dtype=int32)\n"
          ]
        }
      ]
    },
    {
      "cell_type": "markdown",
      "source": [
        "Part c) Discuss (interpret) the results."
      ],
      "metadata": {
        "id": "QeMjmyyoeKMn"
      }
    },
    {
      "cell_type": "markdown",
      "source": [
        "Answer ) It is a three layer model. The accuracy is 82%. "
      ],
      "metadata": {
        "id": "ttOpEjQweZU6"
      }
    },
    {
      "cell_type": "markdown",
      "source": [
        "Part d) Add a second hidden layer, and train a few architectures with 2 hidden layers. Report what\n",
        "architectures you tried (expressed as 5-h1-h2-1, i.e., 5 input, h1 hidden in first layer, h2 hidden\n",
        "in second layer, and one output unit),"
      ],
      "metadata": {
        "id": "Bi5XdWBtew3Y"
      }
    },
    {
      "cell_type": "code",
      "source": [
        "model_2 = tf.keras.Sequential()\n",
        "model_2.add(Dense(16, activation='relu',input_shape=(5, ))) \n",
        "model_2.add(Dense(32, activation='softplus'))\n",
        "model_2.add(Dense(32, activation='softplus')) \n",
        "model_2.add(Dense(1, activation='sigmoid')) \n",
        "\n",
        "model_2.summary()"
      ],
      "metadata": {
        "colab": {
          "base_uri": "https://localhost:8080/"
        },
        "id": "wSurAK0Ae8G5",
        "outputId": "105c93ab-4702-496b-85f4-3a8d3a8d4ebd"
      },
      "execution_count": 99,
      "outputs": [
        {
          "output_type": "stream",
          "name": "stdout",
          "text": [
            "Model: \"sequential_11\"\n",
            "_________________________________________________________________\n",
            " Layer (type)                Output Shape              Param #   \n",
            "=================================================================\n",
            " dense_39 (Dense)            (None, 16)                96        \n",
            "                                                                 \n",
            " dense_40 (Dense)            (None, 32)                544       \n",
            "                                                                 \n",
            " dense_41 (Dense)            (None, 32)                1056      \n",
            "                                                                 \n",
            " dense_42 (Dense)            (None, 1)                 33        \n",
            "                                                                 \n",
            "=================================================================\n",
            "Total params: 1,729\n",
            "Trainable params: 1,729\n",
            "Non-trainable params: 0\n",
            "_________________________________________________________________\n"
          ]
        }
      ]
    },
    {
      "cell_type": "code",
      "source": [
        "lossfunction = tf.keras.losses.BinaryCrossentropy()\n",
        "model_2.compile(optimizer= 'adam', loss= lossfunction, metrics=['accuracy'])\n",
        "fitmodel = model_2.fit(train_x, train_y, epochs=5, validation_split=0.3)"
      ],
      "metadata": {
        "colab": {
          "base_uri": "https://localhost:8080/"
        },
        "id": "yCQbAhgYfMOF",
        "outputId": "c091f8e5-1007-4e58-b2f7-abbe68ff5a8a"
      },
      "execution_count": 100,
      "outputs": [
        {
          "output_type": "stream",
          "name": "stdout",
          "text": [
            "Epoch 1/5\n",
            "88/88 [==============================] - 1s 4ms/step - loss: 3.2610 - accuracy: 0.7300 - val_loss: 0.7593 - val_accuracy: 0.5167\n",
            "Epoch 2/5\n",
            "88/88 [==============================] - 0s 2ms/step - loss: 0.6312 - accuracy: 0.7757 - val_loss: 0.5485 - val_accuracy: 0.7792\n",
            "Epoch 3/5\n",
            "88/88 [==============================] - 0s 2ms/step - loss: 0.5834 - accuracy: 0.7811 - val_loss: 0.5623 - val_accuracy: 0.7150\n",
            "Epoch 4/5\n",
            "88/88 [==============================] - 0s 2ms/step - loss: 0.5624 - accuracy: 0.7900 - val_loss: 0.5703 - val_accuracy: 0.7692\n",
            "Epoch 5/5\n",
            "88/88 [==============================] - 0s 2ms/step - loss: 0.5389 - accuracy: 0.7889 - val_loss: 0.4690 - val_accuracy: 0.8042\n"
          ]
        }
      ]
    },
    {
      "cell_type": "code",
      "source": [
        "training_loss, training_acc = model_2.evaluate(train_x, train_y)\n",
        "testing_loss, testing_acc = model_2.evaluate(test_x, test_y)"
      ],
      "metadata": {
        "colab": {
          "base_uri": "https://localhost:8080/"
        },
        "id": "me7GuGUSfaet",
        "outputId": "6ed43533-37d3-485b-d752-5838cefd2708"
      },
      "execution_count": 101,
      "outputs": [
        {
          "output_type": "stream",
          "name": "stdout",
          "text": [
            "125/125 [==============================] - 0s 1ms/step - loss: 0.4400 - accuracy: 0.8130\n",
            "32/32 [==============================] - 0s 1ms/step - loss: 0.4699 - accuracy: 0.8060\n"
          ]
        }
      ]
    },
    {
      "cell_type": "code",
      "source": [
        "pred = model_2.predict(test_x)\n",
        "test_pred = np.argmax(pred, axis = 1)\n",
        "confusion_matrix = tf.math.confusion_matrix(labels= test_y, predictions=test_pred)\n",
        "print(confusion_matrix)"
      ],
      "metadata": {
        "colab": {
          "base_uri": "https://localhost:8080/"
        },
        "id": "72SKSGYqffS6",
        "outputId": "f96ad4cc-5eee-4989-b322-49471d32b6fb"
      },
      "execution_count": 102,
      "outputs": [
        {
          "output_type": "stream",
          "name": "stdout",
          "text": [
            "32/32 [==============================] - 0s 1ms/step\n",
            "tf.Tensor(\n",
            "[[804   0]\n",
            " [196   0]], shape=(2, 2), dtype=int32)\n"
          ]
        }
      ]
    },
    {
      "cell_type": "code",
      "source": [
        "fitModel = model_2.fit(train_x, train_y, epochs = 5, validation_split = 0.3)\n",
        "#prints key information\n",
        "\n",
        "plt.plot(fitModel.history['accuracy'])\n",
        "plt.plot(fitModel.history['val_accuracy'])\n",
        "plt.legend(['Training accuracy', 'Validation accuracy'])\n",
        "plt.title('Trianing and Validation Accuracies')\n",
        "plt.xlabel('Epoch')\n",
        "plt.ylabel('Accuracy')"
      ],
      "metadata": {
        "colab": {
          "base_uri": "https://localhost:8080/",
          "height": 491
        },
        "id": "Ueoc33IUfivY",
        "outputId": "7757665d-0c28-4819-8c3d-106fbecba844"
      },
      "execution_count": 103,
      "outputs": [
        {
          "output_type": "stream",
          "name": "stdout",
          "text": [
            "Epoch 1/5\n",
            "88/88 [==============================] - 0s 2ms/step - loss: 0.4836 - accuracy: 0.8032 - val_loss: 0.5882 - val_accuracy: 0.8033\n",
            "Epoch 2/5\n",
            "88/88 [==============================] - 0s 2ms/step - loss: 0.4994 - accuracy: 0.7982 - val_loss: 0.5049 - val_accuracy: 0.8183\n",
            "Epoch 3/5\n",
            "88/88 [==============================] - 0s 2ms/step - loss: 0.4399 - accuracy: 0.8064 - val_loss: 0.6972 - val_accuracy: 0.7092\n",
            "Epoch 4/5\n",
            "88/88 [==============================] - 0s 2ms/step - loss: 0.6997 - accuracy: 0.7554 - val_loss: 0.5536 - val_accuracy: 0.7567\n",
            "Epoch 5/5\n",
            "88/88 [==============================] - 0s 2ms/step - loss: 0.5235 - accuracy: 0.8093 - val_loss: 0.4770 - val_accuracy: 0.8025\n"
          ]
        },
        {
          "output_type": "execute_result",
          "data": {
            "text/plain": [
              "Text(0, 0.5, 'Accuracy')"
            ]
          },
          "metadata": {},
          "execution_count": 103
        },
        {
          "output_type": "display_data",
          "data": {
            "text/plain": [
              "<Figure size 432x288 with 1 Axes>"
            ],
            "image/png": "[encoded data removed]"
          },
          "metadata": {
            "needs_background": "light"
          }
        }
      ]
    },
    {
      "cell_type": "code",
      "source": [
        "plt.plot(fitModel.history['loss'])\n",
        "plt.plot(fitModel.history['val_loss'])\n",
        "plt.legend(['Training loss', 'Validation loss'])\n",
        "plt.title('Trianing and Validation Losses')\n",
        "plt.xlabel('Epoch')\n",
        "plt.ylabel('Loss')"
      ],
      "metadata": {
        "colab": {
          "base_uri": "https://localhost:8080/",
          "height": 313
        },
        "id": "qTo6gy_Cfnej",
        "outputId": "259d16b3-fa05-48b6-f91f-ebd43061e579"
      },
      "execution_count": 104,
      "outputs": [
        {
          "output_type": "execute_result",
          "data": {
            "text/plain": [
              "Text(0, 0.5, 'Loss')"
            ]
          },
          "metadata": {},
          "execution_count": 104
        },
        {
          "output_type": "display_data",
          "data": {
            "text/plain": [
              "<Figure size 432x288 with 1 Axes>"
            ],
            "image/png": "[encoded data removed]"
          },
          "metadata": {
            "needs_background": "light"
          }
        }
      ]
    }
  ]
}