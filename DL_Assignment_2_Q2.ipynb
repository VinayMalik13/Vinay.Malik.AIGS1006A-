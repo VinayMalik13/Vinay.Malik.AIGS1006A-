{
  "nbformat": 4,
  "nbformat_minor": 0,
  "metadata": {
    "colab": {
      "provenance": []
    },
    "kernelspec": {
      "name": "python3",
      "display_name": "Python 3"
    },
    "language_info": {
      "name": "python"
    }
  },
  "cells": [
    {
      "cell_type": "markdown",
      "source": [
        "Question 2: Part - a)\n",
        "State the number of training samples. Also, state the number of test samples.\n",
        "\n",
        "\n",
        "No. of Training Samples: 8143  \n",
        "No. of Test Samples: 9752"
      ],
      "metadata": {
        "id": "vF1jjVUmbfDC"
      }
    },
    {
      "cell_type": "markdown",
      "source": [
        "Part B) Run a simulation using TensorFlow and vary the number of hidden units and make a plot."
      ],
      "metadata": {
        "id": "jadRddAlcdlN"
      }
    },
    {
      "cell_type": "code",
      "source": [
        "import tensorflow as tf\n",
        "# for layers\n",
        "from tensorflow.keras.layers import Dense\n",
        "import pandas as pd\n",
        "import numpy as np\n",
        "import matplotlib.pyplot as plt\n",
        "from sklearn.model_selection import train_test_split"
      ],
      "metadata": {
        "id": "XSJsv4BNch_2"
      },
      "execution_count": 107,
      "outputs": []
    },
    {
      "cell_type": "code",
      "source": [
        "testdata = pd.read_csv('testData.txt', sep=',')\n",
        "traindata = pd.read_csv('trainData.txt', sep=',')\n",
        "\n",
        "testdata.info()"
      ],
      "metadata": {
        "colab": {
          "base_uri": "https://localhost:8080/"
        },
        "id": "lU31X75Pczrp",
        "outputId": "b380037d-ccd5-4f25-e23a-0642bbdd842e"
      },
      "execution_count": 108,
      "outputs": [
        {
          "output_type": "stream",
          "name": "stdout",
          "text": [
            "<class 'pandas.core.frame.DataFrame'>\n",
            "Int64Index: 9752 entries, 1 to 9752\n",
            "Data columns (total 7 columns):\n",
            " #   Column         Non-Null Count  Dtype  \n",
            "---  ------         --------------  -----  \n",
            " 0   date           9752 non-null   object \n",
            " 1   Temperature    9752 non-null   float64\n",
            " 2   Humidity       9752 non-null   float64\n",
            " 3   Light          9752 non-null   float64\n",
            " 4   CO2            9752 non-null   float64\n",
            " 5   HumidityRatio  9752 non-null   float64\n",
            " 6   Occupancy      9752 non-null   int64  \n",
            "dtypes: float64(5), int64(1), object(1)\n",
            "memory usage: 609.5+ KB\n"
          ]
        }
      ]
    },
    {
      "cell_type": "code",
      "source": [
        "traindata.info()"
      ],
      "metadata": {
        "colab": {
          "base_uri": "https://localhost:8080/"
        },
        "id": "lQctGbdYc1Wz",
        "outputId": "87cb4bae-b5f4-403d-d2ad-166fff3cf342"
      },
      "execution_count": 109,
      "outputs": [
        {
          "output_type": "stream",
          "name": "stdout",
          "text": [
            "<class 'pandas.core.frame.DataFrame'>\n",
            "Int64Index: 8143 entries, 1 to 8143\n",
            "Data columns (total 7 columns):\n",
            " #   Column         Non-Null Count  Dtype  \n",
            "---  ------         --------------  -----  \n",
            " 0   date           8143 non-null   object \n",
            " 1   Temperature    8143 non-null   float64\n",
            " 2   Humidity       8143 non-null   float64\n",
            " 3   Light          8143 non-null   float64\n",
            " 4   CO2            8143 non-null   float64\n",
            " 5   HumidityRatio  8143 non-null   float64\n",
            " 6   Occupancy      8143 non-null   int64  \n",
            "dtypes: float64(5), int64(1), object(1)\n",
            "memory usage: 508.9+ KB\n"
          ]
        }
      ]
    },
    {
      "cell_type": "code",
      "source": [
        "X = traindata.iloc[:5000, 1:6]\n",
        "Y = testdata.iloc[:5000, -1:]\n",
        "\n",
        "train_x, test_x, train_y, test_y = train_test_split(X, Y, test_size=0.2, random_state=0)"
      ],
      "metadata": {
        "id": "jp01OyKddJIu"
      },
      "execution_count": 110,
      "outputs": []
    },
    {
      "cell_type": "code",
      "source": [
        "print(train_x.shape, train_y.shape, test_x.shape, test_y.shape)"
      ],
      "metadata": {
        "colab": {
          "base_uri": "https://localhost:8080/"
        },
        "id": "A_p_Nhv-dLAD",
        "outputId": "3d72720a-536d-441e-ccc3-9e959cd9d40f"
      },
      "execution_count": 111,
      "outputs": [
        {
          "output_type": "stream",
          "name": "stdout",
          "text": [
            "(4000, 5) (4000, 1) (1000, 5) (1000, 1)\n"
          ]
        }
      ]
    },
    {
      "cell_type": "code",
      "source": [
        "model_1 = tf.keras.Sequential()\n",
        "model_1.add(Dense(16, activation='relu',input_shape=(5, ))) \n",
        "model_1.add(Dense(32, activation='softplus')) \n",
        "model_1.add(Dense(1, activation='sigmoid')) \n",
        "\n",
        "model_1.summary()"
      ],
      "metadata": {
        "colab": {
          "base_uri": "https://localhost:8080/"
        },
        "id": "p82UTK97depD",
        "outputId": "889f2459-d89e-4b23-c48b-cb8928c1753b"
      },
      "execution_count": 112,
      "outputs": [
        {
          "output_type": "stream",
          "name": "stdout",
          "text": [
            "Model: \"sequential_12\"\n",
            "_________________________________________________________________\n",
            " Layer (type)                Output Shape              Param #   \n",
            "=================================================================\n",
            " dense_43 (Dense)            (None, 16)                96        \n",
            "                                                                 \n",
            " dense_44 (Dense)            (None, 32)                544       \n",
            "                                                                 \n",
            " dense_45 (Dense)            (None, 1)                 33        \n",
            "                                                                 \n",
            "=================================================================\n",
            "Total params: 673\n",
            "Trainable params: 673\n",
            "Non-trainable params: 0\n",
            "_________________________________________________________________\n"
          ]
        }
      ]
    },
    {
      "cell_type": "code",
      "source": [
        "lossfunction = tf.keras.losses.BinaryCrossentropy()\n",
        "model_1.compile(optimizer= 'adam', loss= lossfunction, metrics=['accuracy'])"
      ],
      "metadata": {
        "id": "sUlyO-Kbdkq_"
      },
      "execution_count": 113,
      "outputs": []
    },
    {
      "cell_type": "code",
      "source": [
        "fitmodel = model_1.fit(train_x, train_y, epochs=10, validation_split=0.3)"
      ],
      "metadata": {
        "colab": {
          "base_uri": "https://localhost:8080/"
        },
        "id": "3MYIlKkhdobg",
        "outputId": "6299c074-7f6c-43b8-b9a1-16a7e4d584d1"
      },
      "execution_count": 114,
      "outputs": [
        {
          "output_type": "stream",
          "name": "stdout",
          "text": [
            "Epoch 1/10\n",
            "88/88 [==============================] - 1s 3ms/step - loss: 1.9405 - accuracy: 0.7146 - val_loss: 0.7202 - val_accuracy: 0.7492\n",
            "Epoch 2/10\n",
            "88/88 [==============================] - 0s 2ms/step - loss: 0.6233 - accuracy: 0.7618 - val_loss: 0.5650 - val_accuracy: 0.7350\n",
            "Epoch 3/10\n",
            "88/88 [==============================] - 0s 2ms/step - loss: 0.5566 - accuracy: 0.7729 - val_loss: 0.5207 - val_accuracy: 0.7533\n",
            "Epoch 4/10\n",
            "88/88 [==============================] - 0s 2ms/step - loss: 0.5595 - accuracy: 0.7846 - val_loss: 0.5688 - val_accuracy: 0.8058\n",
            "Epoch 5/10\n",
            "88/88 [==============================] - 0s 2ms/step - loss: 0.5675 - accuracy: 0.7814 - val_loss: 0.6608 - val_accuracy: 0.6892\n",
            "Epoch 6/10\n",
            "88/88 [==============================] - 0s 2ms/step - loss: 0.5285 - accuracy: 0.7925 - val_loss: 0.6168 - val_accuracy: 0.6975\n",
            "Epoch 7/10\n",
            "88/88 [==============================] - 0s 2ms/step - loss: 0.5012 - accuracy: 0.8057 - val_loss: 0.6441 - val_accuracy: 0.8017\n",
            "Epoch 8/10\n",
            "88/88 [==============================] - 0s 2ms/step - loss: 0.5117 - accuracy: 0.7961 - val_loss: 0.4477 - val_accuracy: 0.8283\n",
            "Epoch 9/10\n",
            "88/88 [==============================] - 0s 2ms/step - loss: 0.4926 - accuracy: 0.8018 - val_loss: 0.4836 - val_accuracy: 0.8058\n",
            "Epoch 10/10\n",
            "88/88 [==============================] - 0s 2ms/step - loss: 0.5092 - accuracy: 0.8036 - val_loss: 0.6257 - val_accuracy: 0.8083\n"
          ]
        }
      ]
    },
    {
      "cell_type": "code",
      "source": [
        "training_loss, training_acc = model_1.evaluate(train_x, train_y)\n",
        "testing_loss, testing_acc = model_1.evaluate(test_x, test_y)"
      ],
      "metadata": {
        "colab": {
          "base_uri": "https://localhost:8080/"
        },
        "id": "-be-i17qdvaC",
        "outputId": "9e1cb07e-c384-451c-f26d-a279a3e0b095"
      },
      "execution_count": 115,
      "outputs": [
        {
          "output_type": "stream",
          "name": "stdout",
          "text": [
            "125/125 [==============================] - 0s 1ms/step - loss: 0.5978 - accuracy: 0.8173\n",
            "32/32 [==============================] - 0s 1ms/step - loss: 0.6173 - accuracy: 0.8110\n"
          ]
        }
      ]
    },
    {
      "cell_type": "code",
      "source": [
        "pred = model_1.predict(test_x)\n",
        "test_pred = np.argmax(pred, axis = 1)\n",
        "confusion_matrix = tf.math.confusion_matrix(labels= test_y, predictions=test_pred)\n",
        "print(confusion_matrix)"
      ],
      "metadata": {
        "colab": {
          "base_uri": "https://localhost:8080/"
        },
        "id": "U62JD0Awdzz8",
        "outputId": "b81c4c7b-78fa-44e8-ce8c-9cd793cb371d"
      },
      "execution_count": 116,
      "outputs": [
        {
          "output_type": "stream",
          "name": "stdout",
          "text": [
            "32/32 [==============================] - 0s 966us/step\n",
            "tf.Tensor(\n",
            "[[804   0]\n",
            " [196   0]], shape=(2, 2), dtype=int32)\n"
          ]
        }
      ]
    },
    {
      "cell_type": "code",
      "source": [
        "fitModel = model_1.fit(train_x, train_y, epochs = 10, validation_split = 0.3)\n",
        "\n",
        "#prints key information\n",
        "\n",
        "plt.plot(fitModel.history['accuracy'])\n",
        "plt.plot(fitModel.history['val_accuracy'])\n",
        "plt.legend(['Training accuracy', 'Validation accuracy'])\n",
        "plt.title('Trianing and Validation Accuracies')\n",
        "plt.xlabel('Epoch')\n",
        "plt.ylabel('Accuracy')"
      ],
      "metadata": {
        "colab": {
          "base_uri": "https://localhost:8080/",
          "height": 670
        },
        "id": "Pqw7G04Rd4HP",
        "outputId": "6aa5108e-2652-45f0-ffc6-23c82382cfb9"
      },
      "execution_count": 117,
      "outputs": [
        {
          "output_type": "stream",
          "name": "stdout",
          "text": [
            "Epoch 1/10\n",
            "88/88 [==============================] - 0s 3ms/step - loss: 0.4946 - accuracy: 0.8071 - val_loss: 0.4274 - val_accuracy: 0.8133\n",
            "Epoch 2/10\n",
            "88/88 [==============================] - 0s 2ms/step - loss: 0.4462 - accuracy: 0.8154 - val_loss: 0.5437 - val_accuracy: 0.8017\n",
            "Epoch 3/10\n",
            "88/88 [==============================] - 0s 2ms/step - loss: 0.5125 - accuracy: 0.7929 - val_loss: 0.4250 - val_accuracy: 0.8258\n",
            "Epoch 4/10\n",
            "88/88 [==============================] - 0s 2ms/step - loss: 0.4216 - accuracy: 0.8271 - val_loss: 0.4211 - val_accuracy: 0.8192\n",
            "Epoch 5/10\n",
            "88/88 [==============================] - 0s 2ms/step - loss: 0.4530 - accuracy: 0.8132 - val_loss: 0.4196 - val_accuracy: 0.8300\n",
            "Epoch 6/10\n",
            "88/88 [==============================] - 0s 3ms/step - loss: 0.4737 - accuracy: 0.8221 - val_loss: 0.5676 - val_accuracy: 0.7700\n",
            "Epoch 7/10\n",
            "88/88 [==============================] - 0s 2ms/step - loss: 0.4783 - accuracy: 0.8132 - val_loss: 0.3890 - val_accuracy: 0.8175\n",
            "Epoch 8/10\n",
            "88/88 [==============================] - 0s 2ms/step - loss: 0.4099 - accuracy: 0.8257 - val_loss: 0.3855 - val_accuracy: 0.8375\n",
            "Epoch 9/10\n",
            "88/88 [==============================] - 0s 2ms/step - loss: 0.4002 - accuracy: 0.8339 - val_loss: 0.4060 - val_accuracy: 0.8158\n",
            "Epoch 10/10\n",
            "88/88 [==============================] - 0s 3ms/step - loss: 0.3805 - accuracy: 0.8307 - val_loss: 0.3993 - val_accuracy: 0.8217\n"
          ]
        },
        {
          "output_type": "execute_result",
          "data": {
            "text/plain": [
              "Text(0, 0.5, 'Accuracy')"
            ]
          },
          "metadata": {},
          "execution_count": 117
        },
        {
          "output_type": "display_data",
          "data": {
            "text/plain": [
              "<Figure size 432x288 with 1 Axes>"
            ],
            "image/png": "[encoded data removed]"
          },
          "metadata": {
            "needs_background": "light"
          }
        }
      ]
    },
    {
      "cell_type": "code",
      "source": [
        "plt.plot(fitModel.history['loss'])\n",
        "plt.plot(fitModel.history['val_loss'])\n",
        "plt.legend(['Training loss', 'Validation loss'])\n",
        "plt.title('Trianing and Validation Losses')\n",
        "plt.xlabel('Epoch')\n",
        "plt.ylabel('Loss')"
      ],
      "metadata": {
        "colab": {
          "base_uri": "https://localhost:8080/",
          "height": 313
        },
        "id": "tor-KbgBeCPx",
        "outputId": "b87f39aa-686d-46ad-9af2-a999fd91a076"
      },
      "execution_count": 118,
      "outputs": [
        {
          "output_type": "execute_result",
          "data": {
            "text/plain": [
              "Text(0, 0.5, 'Loss')"
            ]
          },
          "metadata": {},
          "execution_count": 118
        },
        {
          "output_type": "display_data",
          "data": {
            "text/plain": [
              "<Figure size 432x288 with 1 Axes>"
            ],
            "image/png": "[encoded data removed]"
          },
          "metadata": {
            "needs_background": "light"
          }
        }
      ]
    },
    {
      "cell_type": "code",
      "source": [
        "test_predict = model_1.predict(test_x)\n",
        "test_predict_labels = np.argmax(test_predict, axis = 1)\n",
        "confusion_matrix = tf.math.confusion_matrix(labels = test_y, predictions = test_predict_labels)\n",
        "print('confusion Matrix\\n', confusion_matrix)"
      ],
      "metadata": {
        "colab": {
          "base_uri": "https://localhost:8080/"
        },
        "id": "12F5IAZQfAj_",
        "outputId": "581ed698-2895-495e-b3da-450c1419a16f"
      },
      "execution_count": 119,
      "outputs": [
        {
          "output_type": "stream",
          "name": "stdout",
          "text": [
            "32/32 [==============================] - 0s 837us/step\n",
            "confusion Matrix\n",
            " tf.Tensor(\n",
            "[[804   0]\n",
            " [196   0]], shape=(2, 2), dtype=int32)\n"
          ]
        }
      ]
    },
    {
      "cell_type": "markdown",
      "source": [
        "Part c) Discuss (interpret) the results."
      ],
      "metadata": {
        "id": "QeMjmyyoeKMn"
      }
    },
    {
      "cell_type": "markdown",
      "source": [
        "Answer ) It is a three layer model. The accuracy is 81%. "
      ],
      "metadata": {
        "id": "ttOpEjQweZU6"
      }
    },
    {
      "cell_type": "markdown",
      "source": [
        "Part d) Add a second hidden layer, and train a few architectures with 2 hidden layers. Report what\n",
        "architectures you tried (expressed as 5-h1-h2-1, i.e., 5 input, h1 hidden in first layer, h2 hidden\n",
        "in second layer, and one output unit),"
      ],
      "metadata": {
        "id": "Bi5XdWBtew3Y"
      }
    },
    {
      "cell_type": "code",
      "source": [
        "model_2 = tf.keras.Sequential()\n",
        "model_2.add(Dense(16, activation='relu',input_shape=(5, ))) \n",
        "model_2.add(Dense(32, activation='softplus'))\n",
        "model_2.add(Dense(32, activation='softplus')) \n",
        "model_2.add(Dense(1, activation='sigmoid')) \n",
        "\n",
        "model_2.summary()"
      ],
      "metadata": {
        "colab": {
          "base_uri": "https://localhost:8080/"
        },
        "id": "wSurAK0Ae8G5",
        "outputId": "72cbf0d2-2070-4b19-b45f-de2cc22b5a1f"
      },
      "execution_count": 120,
      "outputs": [
        {
          "output_type": "stream",
          "name": "stdout",
          "text": [
            "Model: \"sequential_13\"\n",
            "_________________________________________________________________\n",
            " Layer (type)                Output Shape              Param #   \n",
            "=================================================================\n",
            " dense_46 (Dense)            (None, 16)                96        \n",
            "                                                                 \n",
            " dense_47 (Dense)            (None, 32)                544       \n",
            "                                                                 \n",
            " dense_48 (Dense)            (None, 32)                1056      \n",
            "                                                                 \n",
            " dense_49 (Dense)            (None, 1)                 33        \n",
            "                                                                 \n",
            "=================================================================\n",
            "Total params: 1,729\n",
            "Trainable params: 1,729\n",
            "Non-trainable params: 0\n",
            "_________________________________________________________________\n"
          ]
        }
      ]
    },
    {
      "cell_type": "code",
      "source": [
        "lossfunction = tf.keras.losses.BinaryCrossentropy()\n",
        "model_2.compile(optimizer= 'adam', loss= lossfunction, metrics=['accuracy'])\n",
        "fitmodel = model_2.fit(train_x, train_y, epochs=5, validation_split=0.3)"
      ],
      "metadata": {
        "colab": {
          "base_uri": "https://localhost:8080/"
        },
        "id": "yCQbAhgYfMOF",
        "outputId": "a7b8fa19-3667-4fea-9538-4f19a5d1e9a9"
      },
      "execution_count": 121,
      "outputs": [
        {
          "output_type": "stream",
          "name": "stdout",
          "text": [
            "Epoch 1/5\n",
            "88/88 [==============================] - 1s 4ms/step - loss: 0.8729 - accuracy: 0.7346 - val_loss: 1.0146 - val_accuracy: 0.8017\n",
            "Epoch 2/5\n",
            "88/88 [==============================] - 0s 2ms/step - loss: 0.6186 - accuracy: 0.7911 - val_loss: 0.7615 - val_accuracy: 0.5333\n",
            "Epoch 3/5\n",
            "88/88 [==============================] - 0s 3ms/step - loss: 0.5835 - accuracy: 0.7739 - val_loss: 0.8353 - val_accuracy: 0.8017\n",
            "Epoch 4/5\n",
            "88/88 [==============================] - 0s 3ms/step - loss: 0.6217 - accuracy: 0.7846 - val_loss: 0.4807 - val_accuracy: 0.7992\n",
            "Epoch 5/5\n",
            "88/88 [==============================] - 0s 2ms/step - loss: 0.4950 - accuracy: 0.8179 - val_loss: 0.7483 - val_accuracy: 0.8017\n"
          ]
        }
      ]
    },
    {
      "cell_type": "code",
      "source": [
        "training_loss, training_acc = model_2.evaluate(train_x, train_y)\n",
        "testing_loss, testing_acc = model_2.evaluate(test_x, test_y)"
      ],
      "metadata": {
        "colab": {
          "base_uri": "https://localhost:8080/"
        },
        "id": "me7GuGUSfaet",
        "outputId": "1aa32635-85d5-4f1c-caa8-57ee11d8c7c0"
      },
      "execution_count": 122,
      "outputs": [
        {
          "output_type": "stream",
          "name": "stdout",
          "text": [
            "125/125 [==============================] - 0s 1ms/step - loss: 0.7042 - accuracy: 0.8110\n",
            "32/32 [==============================] - 0s 1ms/step - loss: 0.7524 - accuracy: 0.8040\n"
          ]
        }
      ]
    },
    {
      "cell_type": "code",
      "source": [
        "pred = model_2.predict(test_x)\n",
        "test_pred = np.argmax(pred, axis = 1)\n",
        "confusion_matrix = tf.math.confusion_matrix(labels= test_y, predictions=test_pred)\n",
        "print(confusion_matrix)"
      ],
      "metadata": {
        "colab": {
          "base_uri": "https://localhost:8080/"
        },
        "id": "72SKSGYqffS6",
        "outputId": "502025dd-a1bc-4869-9817-3774f1bec995"
      },
      "execution_count": 123,
      "outputs": [
        {
          "output_type": "stream",
          "name": "stdout",
          "text": [
            "32/32 [==============================] - 0s 913us/step\n",
            "tf.Tensor(\n",
            "[[804   0]\n",
            " [196   0]], shape=(2, 2), dtype=int32)\n"
          ]
        }
      ]
    },
    {
      "cell_type": "code",
      "source": [
        "fitModel = model_2.fit(train_x, train_y, epochs = 5, validation_split = 0.3)\n",
        "#prints key information\n",
        "\n",
        "plt.plot(fitModel.history['accuracy'])\n",
        "plt.plot(fitModel.history['val_accuracy'])\n",
        "plt.legend(['Training accuracy', 'Validation accuracy'])\n",
        "plt.title('Trianing and Validation Accuracies')\n",
        "plt.xlabel('Epoch')\n",
        "plt.ylabel('Accuracy')"
      ],
      "metadata": {
        "colab": {
          "base_uri": "https://localhost:8080/",
          "height": 491
        },
        "id": "Ueoc33IUfivY",
        "outputId": "466622b6-f6ca-4cba-db18-bc815f8120a6"
      },
      "execution_count": 124,
      "outputs": [
        {
          "output_type": "stream",
          "name": "stdout",
          "text": [
            "Epoch 1/5\n",
            "88/88 [==============================] - 0s 2ms/step - loss: 0.5345 - accuracy: 0.8018 - val_loss: 0.4376 - val_accuracy: 0.8042\n",
            "Epoch 2/5\n",
            "88/88 [==============================] - 0s 2ms/step - loss: 0.5349 - accuracy: 0.7982 - val_loss: 0.4783 - val_accuracy: 0.8117\n",
            "Epoch 3/5\n",
            "88/88 [==============================] - 0s 2ms/step - loss: 0.4783 - accuracy: 0.8118 - val_loss: 0.5023 - val_accuracy: 0.8050\n",
            "Epoch 4/5\n",
            "88/88 [==============================] - 0s 2ms/step - loss: 0.4776 - accuracy: 0.8129 - val_loss: 0.4374 - val_accuracy: 0.8183\n",
            "Epoch 5/5\n",
            "88/88 [==============================] - 0s 2ms/step - loss: 0.5494 - accuracy: 0.7964 - val_loss: 0.4713 - val_accuracy: 0.8100\n"
          ]
        },
        {
          "output_type": "execute_result",
          "data": {
            "text/plain": [
              "Text(0, 0.5, 'Accuracy')"
            ]
          },
          "metadata": {},
          "execution_count": 124
        },
        {
          "output_type": "display_data",
          "data": {
            "text/plain": [
              "<Figure size 432x288 with 1 Axes>"
            ],
            "image/png": "[encoded data removed]"
          },
          "metadata": {
            "needs_background": "light"
          }
        }
      ]
    },
    {
      "cell_type": "code",
      "source": [
        "plt.plot(fitModel.history['loss'])\n",
        "plt.plot(fitModel.history['val_loss'])\n",
        "plt.legend(['Training loss', 'Validation loss'])\n",
        "plt.title('Trianing and Validation Losses')\n",
        "plt.xlabel('Epoch')\n",
        "plt.ylabel('Loss')"
      ],
      "metadata": {
        "colab": {
          "base_uri": "https://localhost:8080/",
          "height": 313
        },
        "id": "qTo6gy_Cfnej",
        "outputId": "ef4309e3-c17a-4b09-864c-9edb0ff9a537"
      },
      "execution_count": 125,
      "outputs": [
        {
          "output_type": "execute_result",
          "data": {
            "text/plain": [
              "Text(0, 0.5, 'Loss')"
            ]
          },
          "metadata": {},
          "execution_count": 125
        },
        {
          "output_type": "display_data",
          "data": {
            "text/plain": [
              "<Figure size 432x288 with 1 Axes>"
            ],
            "image/png": "[encoded data removed]"
          },
          "metadata": {
            "needs_background": "light"
          }
        }
      ]
    }
  ]
}